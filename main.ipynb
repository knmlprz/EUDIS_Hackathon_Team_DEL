{
 "cells": [
  {
   "cell_type": "code",
   "execution_count": 7,
   "id": "initial_id",
   "metadata": {
    "ExecuteTime": {
     "end_time": "2024-06-01T16:26:33.632405Z",
     "start_time": "2024-06-01T16:26:33.621675Z"
    }
   },
   "outputs": [
    {
     "ename": "ModuleNotFoundError",
     "evalue": "No module named 'src.Embedding'",
     "output_type": "error",
     "traceback": [
      "\u001b[0;31m---------------------------------------------------------------------------\u001b[0m",
      "\u001b[0;31mModuleNotFoundError\u001b[0m                       Traceback (most recent call last)",
      "Cell \u001b[0;32mIn[7], line 3\u001b[0m\n\u001b[1;32m      1\u001b[0m \u001b[38;5;28;01mimport\u001b[39;00m \u001b[38;5;21;01mchromadb\u001b[39;00m\n\u001b[1;32m      2\u001b[0m \u001b[38;5;28;01mimport\u001b[39;00m \u001b[38;5;21;01mjson\u001b[39;00m\n\u001b[0;32m----> 3\u001b[0m \u001b[38;5;28;01mfrom\u001b[39;00m \u001b[38;5;21;01msrc\u001b[39;00m\u001b[38;5;21;01m.\u001b[39;00m\u001b[38;5;21;01mEmbedding\u001b[39;00m \u001b[38;5;28;01mimport\u001b[39;00m text2vec\n",
      "\u001b[0;31mModuleNotFoundError\u001b[0m: No module named 'src.Embedding'"
     ]
    }
   ],
   "source": [
    "import chromadb\n",
    "import json\n",
    "from src.Embedding import text2vec"
   ]
  },
  {
   "cell_type": "code",
   "execution_count": 8,
   "id": "3c88a5e6ba6cb97f",
   "metadata": {
    "ExecuteTime": {
     "end_time": "2024-06-01T16:26:34.498876Z",
     "start_time": "2024-06-01T16:26:34.495540Z"
    }
   },
   "outputs": [],
   "source": [
    "with(open('all_chunks.json', 'r')) as f:\n",
    "    json_data = json.load(f)\n",
    "    \n",
    "    id = list(map(lambda x: x['id'], json_data))\n",
    "    data = list(map(lambda x: x['data'], json_data))\n",
    "    emb = list(map(lambda x: text2vec(x), data))\n",
    "    \n",
    "    f.close()"
   ]
  },
  {
   "cell_type": "code",
   "execution_count": 10,
   "id": "48960d94d64ef0a2",
   "metadata": {
    "ExecuteTime": {
     "end_time": "2024-06-01T16:27:26.785952Z",
     "start_time": "2024-06-01T16:27:26.597484Z"
    }
   },
   "outputs": [],
   "source": [
    "db = chromadb.Client()\n",
    "collection = db.create_collection(name=\"my_collection\")\n"
   ]
  },
  {
   "cell_type": "code",
   "execution_count": 11,
   "id": "dc3b3b7251596f96",
   "metadata": {
    "ExecuteTime": {
     "end_time": "2024-06-01T16:28:07.001635Z",
     "start_time": "2024-06-01T16:28:06.987527Z"
    }
   },
   "outputs": [
    {
     "ename": "NameError",
     "evalue": "name 'data' is not defined",
     "output_type": "error",
     "traceback": [
      "\u001b[0;31m---------------------------------------------------------------------------\u001b[0m",
      "\u001b[0;31mNameError\u001b[0m                                 Traceback (most recent call last)",
      "Cell \u001b[0;32mIn[11], line 2\u001b[0m\n\u001b[1;32m      1\u001b[0m collection\u001b[38;5;241m.\u001b[39madd(\n\u001b[0;32m----> 2\u001b[0m     documents\u001b[38;5;241m=\u001b[39m\u001b[43mdata\u001b[49m,\n\u001b[1;32m      3\u001b[0m     ids\u001b[38;5;241m=\u001b[39m\u001b[38;5;28mid\u001b[39m,\n\u001b[1;32m      4\u001b[0m     embeddings\u001b[38;5;241m=\u001b[39memb,\n\u001b[1;32m      5\u001b[0m )\n",
      "\u001b[0;31mNameError\u001b[0m: name 'data' is not defined"
     ]
    }
   ],
   "source": [
    "collection.add(\n",
    "    documents=data,\n",
    "    ids=id,\n",
    "    embeddings=emb,\n",
    ")"
   ]
  },
  {
   "cell_type": "code",
   "execution_count": null,
   "id": "85867320027b07d9",
   "metadata": {},
   "outputs": [],
   "source": [
    "results = collection.query(\n",
    "    query_texts=[\"<p>This is a query document about hawaii</p>\"], # Chroma will embed this for you\n",
    "    n_results=2 # how many results to return\n",
    ")\n",
    "print(results)"
   ]
  }
 ],
 "metadata": {
  "kernelspec": {
   "display_name": "Python 3",
   "language": "python",
   "name": "python3"
  },
  "language_info": {
   "codemirror_mode": {
    "name": "ipython",
    "version": 2
   },
   "file_extension": ".py",
   "mimetype": "text/x-python",
   "name": "python",
   "nbconvert_exporter": "python",
   "pygments_lexer": "ipython2",
   "version": "2.7.6"
  }
 },
 "nbformat": 4,
 "nbformat_minor": 5
}
